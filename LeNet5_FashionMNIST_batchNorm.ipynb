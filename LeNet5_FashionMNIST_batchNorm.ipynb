{
  "nbformat": 4,
  "nbformat_minor": 0,
  "metadata": {
    "colab": {
      "provenance": [],
      "authorship_tag": "ABX9TyP+Q00uAsd5kUklWKd3k3mQ",
      "include_colab_link": true
    },
    "kernelspec": {
      "name": "python3",
      "display_name": "Python 3"
    },
    "language_info": {
      "name": "python"
    }
  },
  "cells": [
    {
      "cell_type": "markdown",
      "metadata": {
        "id": "view-in-github",
        "colab_type": "text"
      },
      "source": [
        "<a href=\"https://colab.research.google.com/github/sushmitharamk/computervision/blob/main/LeNet5_FashionMNIST_batchNorm.ipynb\" target=\"_parent\"><img src=\"https://colab.research.google.com/assets/colab-badge.svg\" alt=\"Open In Colab\"/></a>"
      ]
    },
    {
      "cell_type": "markdown",
      "source": [
        "# **LeNet5 Archiecture with BatchNorm**"
      ],
      "metadata": {
        "id": "igbhF1gKniOV"
      }
    },
    {
      "cell_type": "code",
      "execution_count": 1,
      "metadata": {
        "id": "1Wt4Otg5nThN"
      },
      "outputs": [],
      "source": [
        "%matplotlib inline"
      ]
    },
    {
      "cell_type": "code",
      "source": [
        "import matplotlib.pyplot as plt\n",
        "\n",
        "# To set the environment variables import os\n",
        "import os\n",
        "\n",
        "# to monitor the training or validation time\n",
        "import time\n",
        "from typing import Iterable\n",
        "\n",
        "# Dataset\n",
        "from dataclasses import dataclass\n",
        "\n",
        "import numpy as np\n",
        "import torch\n",
        "import torch.nn as nn\n",
        "import torch.optim as optim\n",
        "import torch.nn.functional as F\n",
        "\n",
        "from torchvision import datasets, transforms\n"
      ],
      "metadata": {
        "id": "1jALreAvn2qX"
      },
      "execution_count": 2,
      "outputs": []
    },
    {
      "cell_type": "code",
      "source": [
        "###### LeNet Architecture ########\n",
        "\n",
        "class LeNet(nn.Module):\n",
        "  def __init__(self):\n",
        "    super().__init__()\n",
        "\n",
        "    self._body = nn.Sequential(\n",
        "        nn.Conv2d(in_channels = 1, out_channels= 6, kernel_size = 5),\n",
        "        nn.ReLU(inplace = True),\n",
        "        nn.MaxPool2d(kernel_size=2),\n",
        "\n",
        "        nn.Conv2d(in_channels=6, out_channels=16, kernel_size=5),\n",
        "        nn.ReLU(inplace =True),\n",
        "        nn.MaxPool2d(kernel_size =2),\n",
        "    )\n",
        "\n",
        "    # fully connected layers\n",
        "    self._head = nn.Sequential(\n",
        "        nn.Linear(in_features = 16 * 5 * 5, out_features = 120),\n",
        "        nn.ReLU(inplace =True),\n",
        "        nn.Linear(in_features = 120, out_features = 84),\n",
        "        nn.ReLU(inplace = True),\n",
        "        nn.Linear(in_features = 84, out_features =10)\n",
        "    )\n",
        "\n",
        "  def forward(self, x):\n",
        "    x = self._body(x)\n",
        "    x = x.view(x.size()[0], -1)\n",
        "    x = self._head(x)\n",
        "    return x"
      ],
      "metadata": {
        "id": "O_AoQGi-pbFB"
      },
      "execution_count": 3,
      "outputs": []
    },
    {
      "cell_type": "code",
      "source": [
        "class LeNetBN(nn.Module):\n",
        "  def __init__(self):\n",
        "    super().__init__()\n",
        "\n",
        "    self._body = nn.Sequential(\n",
        "        nn.Conv2d(in_channels = 1, out_channels = 6, kernel_size = 5),\n",
        "        nn.BatchNorm2d(6),\n",
        "        nn.ReLU(inplace = True),\n",
        "        nn.MaxPool2d(kernel_size=2),\n",
        "\n",
        "        nn.Conv2d(in_channels = 6, out_channels = 16, kernel_size = 5),\n",
        "        nn.BatchNorm2d(16),\n",
        "        nn.ReLU(inplace = True),\n",
        "        nn.MaxPool2d(kernel_size = 2),\n",
        "\n",
        "    )\n",
        "\n",
        "    self._head = nn.Sequential(\n",
        "        nn.Linear(in_features = 16*5*5, out_features = 120),\n",
        "        nn.ReLU(inplace = True),\n",
        "\n",
        "        nn.Linear(in_features = 120, out_features = 84),\n",
        "        nn.ReLU(inplace = True),\n",
        "\n",
        "        nn.Linear(in_features = 84, out_features = 10)\n",
        "    )\n",
        "\n",
        "\n",
        "  def forward(self, x):\n",
        "    x  = self._body(x)\n",
        "    x = x.view(x.size()[0],-1)\n",
        "    x = self._head(x)\n",
        "    return x"
      ],
      "metadata": {
        "id": "EZED1Y54jzwx"
      },
      "execution_count": 4,
      "outputs": []
    },
    {
      "cell_type": "code",
      "source": [
        "lenet_model = LeNet()\n",
        "print(lenet_model)\n",
        "print(\"################################################################\")\n",
        "lenetBN_model = LeNetBN()\n",
        "print(lenetBN_model)"
      ],
      "metadata": {
        "colab": {
          "base_uri": "https://localhost:8080/"
        },
        "id": "s9MvJ-Demk4q",
        "outputId": "a15d39ea-7c5c-44da-c45f-81c84d12afc0"
      },
      "execution_count": 5,
      "outputs": [
        {
          "output_type": "stream",
          "name": "stdout",
          "text": [
            "LeNet(\n",
            "  (_body): Sequential(\n",
            "    (0): Conv2d(1, 6, kernel_size=(5, 5), stride=(1, 1))\n",
            "    (1): ReLU(inplace=True)\n",
            "    (2): MaxPool2d(kernel_size=2, stride=2, padding=0, dilation=1, ceil_mode=False)\n",
            "    (3): Conv2d(6, 16, kernel_size=(5, 5), stride=(1, 1))\n",
            "    (4): ReLU(inplace=True)\n",
            "    (5): MaxPool2d(kernel_size=2, stride=2, padding=0, dilation=1, ceil_mode=False)\n",
            "  )\n",
            "  (_head): Sequential(\n",
            "    (0): Linear(in_features=400, out_features=120, bias=True)\n",
            "    (1): ReLU(inplace=True)\n",
            "    (2): Linear(in_features=120, out_features=84, bias=True)\n",
            "    (3): ReLU(inplace=True)\n",
            "    (4): Linear(in_features=84, out_features=10, bias=True)\n",
            "  )\n",
            ")\n",
            "################################################################\n",
            "LeNetBN(\n",
            "  (_body): Sequential(\n",
            "    (0): Conv2d(1, 6, kernel_size=(5, 5), stride=(1, 1))\n",
            "    (1): BatchNorm2d(6, eps=1e-05, momentum=0.1, affine=True, track_running_stats=True)\n",
            "    (2): ReLU(inplace=True)\n",
            "    (3): MaxPool2d(kernel_size=2, stride=2, padding=0, dilation=1, ceil_mode=False)\n",
            "    (4): Conv2d(6, 16, kernel_size=(5, 5), stride=(1, 1))\n",
            "    (5): BatchNorm2d(16, eps=1e-05, momentum=0.1, affine=True, track_running_stats=True)\n",
            "    (6): ReLU(inplace=True)\n",
            "    (7): MaxPool2d(kernel_size=2, stride=2, padding=0, dilation=1, ceil_mode=False)\n",
            "  )\n",
            "  (_head): Sequential(\n",
            "    (0): Linear(in_features=400, out_features=120, bias=True)\n",
            "    (1): ReLU(inplace=True)\n",
            "    (2): Linear(in_features=120, out_features=84, bias=True)\n",
            "    (3): ReLU(inplace=True)\n",
            "    (4): Linear(in_features=84, out_features=10, bias=True)\n",
            "  )\n",
            ")\n"
          ]
        }
      ]
    },
    {
      "cell_type": "code",
      "source": [
        "def get_data(batch_size, data_root= 'data', num_workers = 1):\n",
        "\n",
        "  train_test_transforms = transforms.Compose([\n",
        "      transforms.Resize((32,32)),\n",
        "      transforms.ToTensor(),\n",
        "      transforms.Normalize((0.2860,), (0.3530,))\n",
        "  ])\n",
        "\n",
        "  train_loader = torch.utils.data.DataLoader(\n",
        "      datasets.FashionMNIST(root = data_root, train = True, download = True, transform= train_test_transforms),\n",
        "      batch_size = batch_size,\n",
        "      shuffle = True,\n",
        "      num_workers = num_workers\n",
        "  )\n",
        "\n",
        "  test_loader = torch.utils.data.DataLoader(\n",
        "      datasets.FashionMNIST(root=data_root, train = False, download = False, transform = train_test_transforms),\n",
        "      batch_size = batch_size,\n",
        "      shuffle = False,\n",
        "      num_workers = num_workers\n",
        "  )\n",
        "  return train_loader, test_loader"
      ],
      "metadata": {
        "id": "rxyDzdhLm_XM"
      },
      "execution_count": 6,
      "outputs": []
    },
    {
      "cell_type": "code",
      "source": [
        "@dataclass\n",
        "class SystemConfiguration:\n",
        "  seed: int = 42\n",
        "  cudnn_benchmark_enabled: bool = True\n",
        "  cudnn_deterministic: bool = True"
      ],
      "metadata": {
        "id": "oidIxvWe51sf"
      },
      "execution_count": 7,
      "outputs": []
    },
    {
      "cell_type": "code",
      "source": [
        "@dataclass\n",
        "class TrainingConfiguration:\n",
        "  batch_size: int =32\n",
        "  epochs_count: int = 20\n",
        "  learning_rate: float = 0.01\n",
        "  log_interval: int =100\n",
        "  test_interval: int = 1\n",
        "  data_root: str = \"data\"\n",
        "  num_workers: int=10\n",
        "  device: str = 'cuda'"
      ],
      "metadata": {
        "id": "wt6bveLUAezm"
      },
      "execution_count": 8,
      "outputs": []
    },
    {
      "cell_type": "code",
      "source": [
        "def setup_system(system_config: SystemConfiguration) -> None:\n",
        "  torch.manual_seed(system_config.seed)\n",
        "  if torch.cuda.is_available():\n",
        "    torch.backends.cudnn_benchmark_enabled = system_config.cudnn_benchmark_enabled\n",
        "    torch.backends.cudnn.deterministic = system_config.cudnn_deterministic"
      ],
      "metadata": {
        "id": "C0saL0_6KnMs"
      },
      "execution_count": 9,
      "outputs": []
    },
    {
      "cell_type": "code",
      "source": [
        "def train(\n",
        "    train_config : TrainingConfiguration, model : nn.Module, optimizer: torch.optim.Optimizer,\n",
        "    train_loader : torch.utils.data.DataLoader, epoch_idx: int\n",
        "    ) -> None:\n",
        "  model.train()\n",
        "  batch_loss = np.array([])\n",
        "  batch_acc = np.array([])\n",
        "\n",
        "  for batch_idx, (data,target) in enumerate(train_loader):\n",
        "    indx_target = target.clone()\n",
        "    data = data.to(train_config.device)\n",
        "    target = target.to(train_config.device)\n",
        "    optimizer.zero_grad()\n",
        "\n",
        "    output = model(data)\n",
        "    loss = F.cross_entropy(output, target)\n",
        "    loss.backward()\n",
        "    optimizer.step()\n",
        "    batch_loss = np.append(batch_loss, [loss.item()])\n",
        "\n",
        "    prob = F.softmax(output, dim=1)\n",
        "    pred = prob.data.max(dim=1)[1]\n",
        "\n",
        "    correct = pred.cpu().eq(indx_target).sum()\n",
        "\n",
        "    acc = float(correct) / float(len(data))\n",
        "\n",
        "    batch_acc = np.append(batch_acc,[acc])\n",
        "\n",
        "    if batch_idx % train_config.log_interval ==0 and batch_idx >0 :\n",
        "      print(\n",
        "          'Train Epoch: {} [{}/{}] Loss: {:.6f} Acc: {:.4f}'.format(\n",
        "              epoch_idx, batch_idx * len(data), len(train_loader.dataset), loss.item(), acc\n",
        "          )\n",
        "      )\n",
        "\n",
        "      epoch_loss = batch_loss.mean()\n",
        "      epoch_acc = batch_acc.mean()\n",
        "      return epoch_loss, epoch_acc\n"
      ],
      "metadata": {
        "id": "uZ1kN3GVN08p"
      },
      "execution_count": 10,
      "outputs": []
    },
    {
      "cell_type": "code",
      "source": [
        "def validate(\n",
        "    train_config: TrainingConfiguration,\n",
        "    model: nn.Module,\n",
        "    test_loader: torch.utils.data.DataLoader,\n",
        ") -> float:\n",
        "    #\n",
        "    model.eval()\n",
        "    test_loss = 0\n",
        "    count_corect_predictions = 0\n",
        "\n",
        "    with torch.no_grad():\n",
        "        for data, target in test_loader:\n",
        "            indx_target = target.clone()\n",
        "            data = data.to(train_config.device)\n",
        "\n",
        "            target = target.to(train_config.device)\n",
        "\n",
        "            output = model(data)\n",
        "            # add loss for each mini batch\n",
        "            test_loss += F.cross_entropy(output, target).item()\n",
        "\n",
        "            # get probability score using softmax\n",
        "            prob = F.softmax(output, dim=1)\n",
        "\n",
        "            # get the index of the max probability\n",
        "            pred = prob.data.max(dim=1)[1]\n",
        "\n",
        "            # add correct prediction count\n",
        "            count_corect_predictions += pred.cpu().eq(indx_target).sum()\n",
        "\n",
        "        # average over number of mini-batches\n",
        "        test_loss = test_loss / len(test_loader)\n",
        "\n",
        "        # average over number of dataset\n",
        "        accuracy = 100. * count_corect_predictions / len(test_loader.dataset)\n",
        "\n",
        "        print(\n",
        "            '\\nTest set: Average loss: {:.4f}, Accuracy: {}/{} ({:.0f}%)\\n'.format(\n",
        "                test_loss, count_corect_predictions, len(test_loader.dataset), accuracy\n",
        "            )\n",
        "        )\n",
        "    return test_loss, accuracy/100.0"
      ],
      "metadata": {
        "id": "PJPN1lEXTZvI"
      },
      "execution_count": 11,
      "outputs": []
    },
    {
      "cell_type": "code",
      "source": [
        "def main(model, system_configuration=SystemConfiguration(), training_configuration=TrainingConfiguration()):\n",
        "\n",
        "    # system configuration\n",
        "    setup_system(system_configuration)\n",
        "\n",
        "    # batch size\n",
        "    batch_size_to_set = training_configuration.batch_size\n",
        "    # num_workers\n",
        "    num_workers_to_set = training_configuration.num_workers\n",
        "    # epochs\n",
        "    epoch_num_to_set = training_configuration.epochs_count\n",
        "\n",
        "    # if GPU is available use training config,\n",
        "    # else lower batch_size, num_workers and epochs count\n",
        "    if torch.cuda.is_available():\n",
        "        device = \"cuda\"\n",
        "    else:\n",
        "        device = \"cpu\"\n",
        "        batch_size_to_set = 16\n",
        "        num_workers_to_set = 2\n",
        "        epoch_num_to_set = 10\n",
        "\n",
        "    # data loader\n",
        "    train_loader, test_loader = get_data(\n",
        "        batch_size=batch_size_to_set,\n",
        "        data_root=training_configuration.data_root,\n",
        "        num_workers=num_workers_to_set\n",
        "    )\n",
        "\n",
        "    # Update training configuration\n",
        "    training_configuration = TrainingConfiguration(\n",
        "        device=device,\n",
        "        epochs_count=epoch_num_to_set,\n",
        "        batch_size=batch_size_to_set,\n",
        "        num_workers=num_workers_to_set\n",
        "    )\n",
        "\n",
        "    # send model to device (GPU/CPU)\n",
        "    model.to(training_configuration.device)\n",
        "\n",
        "    # optimizer\n",
        "    optimizer = optim.SGD(\n",
        "        model.parameters(),\n",
        "        lr=training_configuration.learning_rate\n",
        "    )\n",
        "\n",
        "    best_loss = torch.tensor(np.inf)\n",
        "\n",
        "    # epoch train/test loss\n",
        "    epoch_train_loss = np.array([])\n",
        "    epoch_test_loss = np.array([])\n",
        "\n",
        "    # epch train/test accuracy\n",
        "    epoch_train_acc = np.array([])\n",
        "    epoch_test_acc = np.array([])\n",
        "\n",
        "    # trainig time measurement\n",
        "    t_begin = time.time()\n",
        "    for epoch in range(training_configuration.epochs_count):\n",
        "\n",
        "        train_loss, train_acc = train(training_configuration, model, optimizer, train_loader, epoch)\n",
        "\n",
        "        epoch_train_loss = np.append(epoch_train_loss, [train_loss])\n",
        "\n",
        "        epoch_train_acc = np.append(epoch_train_acc, [train_acc])\n",
        "\n",
        "        elapsed_time = time.time() - t_begin\n",
        "        speed_epoch = elapsed_time / (epoch + 1)\n",
        "        speed_batch = speed_epoch / len(train_loader)\n",
        "        eta = speed_epoch * training_configuration.epochs_count - elapsed_time\n",
        "\n",
        "        print(\n",
        "            \"Elapsed {:.2f}s, {:.2f} s/epoch, {:.2f} s/batch, ets {:.2f}s\".format(\n",
        "                elapsed_time, speed_epoch, speed_batch, eta\n",
        "            )\n",
        "        )\n",
        "\n",
        "        if epoch % training_configuration.test_interval == 0:\n",
        "            current_loss, current_accuracy = validate(training_configuration, model, test_loader)\n",
        "\n",
        "            epoch_test_loss = np.append(epoch_test_loss, [current_loss])\n",
        "\n",
        "            epoch_test_acc = np.append(epoch_test_acc, [current_accuracy])\n",
        "\n",
        "            if current_loss < best_loss:\n",
        "                best_loss = current_loss\n",
        "\n",
        "    print(\"Total time: {:.2f}, Best Loss: {:.3f}\".format(time.time() - t_begin, best_loss))\n",
        "\n",
        "    return model, epoch_train_loss, epoch_train_acc, epoch_test_loss, epoch_test_acc"
      ],
      "metadata": {
        "id": "jKin2RHJTfHY"
      },
      "execution_count": 12,
      "outputs": []
    },
    {
      "cell_type": "code",
      "source": [
        "model = LeNet()\n",
        "modelBN = LeNetBN()\n",
        "\n",
        "model, epoch_train_loss, epoch_train_acc, epoch_test_loss, epoch_test_acc = main(model)\n",
        "\n",
        "modelBN, epoch_train_loss_bn, epoch_train_acc_bn, epoch_test_loss_bn, epoch_test_acc_bn = main(modelBN)"
      ],
      "metadata": {
        "colab": {
          "base_uri": "https://localhost:8080/"
        },
        "id": "XQGuxPPDT6aS",
        "outputId": "53380c75-1635-468b-d2f5-b77a90e4a9a9"
      },
      "execution_count": 13,
      "outputs": [
        {
          "output_type": "stream",
          "name": "stdout",
          "text": [
            "Downloading http://fashion-mnist.s3-website.eu-central-1.amazonaws.com/train-images-idx3-ubyte.gz\n",
            "Downloading http://fashion-mnist.s3-website.eu-central-1.amazonaws.com/train-images-idx3-ubyte.gz to data/FashionMNIST/raw/train-images-idx3-ubyte.gz\n"
          ]
        },
        {
          "output_type": "stream",
          "name": "stderr",
          "text": [
            "100%|██████████| 26421880/26421880 [00:08<00:00, 3083241.86it/s] \n"
          ]
        },
        {
          "output_type": "stream",
          "name": "stdout",
          "text": [
            "Extracting data/FashionMNIST/raw/train-images-idx3-ubyte.gz to data/FashionMNIST/raw\n",
            "\n",
            "Downloading http://fashion-mnist.s3-website.eu-central-1.amazonaws.com/train-labels-idx1-ubyte.gz\n",
            "Downloading http://fashion-mnist.s3-website.eu-central-1.amazonaws.com/train-labels-idx1-ubyte.gz to data/FashionMNIST/raw/train-labels-idx1-ubyte.gz\n"
          ]
        },
        {
          "output_type": "stream",
          "name": "stderr",
          "text": [
            "100%|██████████| 29515/29515 [00:00<00:00, 267887.61it/s]\n"
          ]
        },
        {
          "output_type": "stream",
          "name": "stdout",
          "text": [
            "Extracting data/FashionMNIST/raw/train-labels-idx1-ubyte.gz to data/FashionMNIST/raw\n",
            "\n",
            "Downloading http://fashion-mnist.s3-website.eu-central-1.amazonaws.com/t10k-images-idx3-ubyte.gz\n",
            "Downloading http://fashion-mnist.s3-website.eu-central-1.amazonaws.com/t10k-images-idx3-ubyte.gz to data/FashionMNIST/raw/t10k-images-idx3-ubyte.gz\n"
          ]
        },
        {
          "output_type": "stream",
          "name": "stderr",
          "text": [
            "100%|██████████| 4422102/4422102 [00:05<00:00, 810196.80it/s] \n"
          ]
        },
        {
          "output_type": "stream",
          "name": "stdout",
          "text": [
            "Extracting data/FashionMNIST/raw/t10k-images-idx3-ubyte.gz to data/FashionMNIST/raw\n",
            "\n",
            "Downloading http://fashion-mnist.s3-website.eu-central-1.amazonaws.com/t10k-labels-idx1-ubyte.gz\n",
            "Downloading http://fashion-mnist.s3-website.eu-central-1.amazonaws.com/t10k-labels-idx1-ubyte.gz to data/FashionMNIST/raw/t10k-labels-idx1-ubyte.gz\n"
          ]
        },
        {
          "output_type": "stream",
          "name": "stderr",
          "text": [
            "100%|██████████| 5148/5148 [00:00<00:00, 1616793.48it/s]\n"
          ]
        },
        {
          "output_type": "stream",
          "name": "stdout",
          "text": [
            "Extracting data/FashionMNIST/raw/t10k-labels-idx1-ubyte.gz to data/FashionMNIST/raw\n",
            "\n",
            "Train Epoch: 0 [1600/60000] Loss: 2.292552 Acc: 0.1250\n",
            "Elapsed 3.28s, 3.28 s/epoch, 0.00 s/batch, ets 29.50s\n",
            "\n",
            "Test set: Average loss: 2.2958, Accuracy: 1287/10000 (13%)\n",
            "\n",
            "Train Epoch: 1 [1600/60000] Loss: 2.287451 Acc: 0.0625\n",
            "Elapsed 15.36s, 7.68 s/epoch, 0.00 s/batch, ets 61.46s\n",
            "\n",
            "Test set: Average loss: 2.2840, Accuracy: 1464/10000 (15%)\n",
            "\n",
            "Train Epoch: 2 [1600/60000] Loss: 2.272932 Acc: 0.0625\n",
            "Elapsed 21.83s, 7.28 s/epoch, 0.00 s/batch, ets 50.93s\n",
            "\n",
            "Test set: Average loss: 2.2529, Accuracy: 1579/10000 (16%)\n",
            "\n",
            "Train Epoch: 3 [1600/60000] Loss: 2.200012 Acc: 0.2500\n",
            "Elapsed 29.70s, 7.42 s/epoch, 0.00 s/batch, ets 44.55s\n",
            "\n",
            "Test set: Average loss: 2.0844, Accuracy: 2820/10000 (28%)\n",
            "\n",
            "Train Epoch: 4 [1600/60000] Loss: 1.590057 Acc: 0.4375\n",
            "Elapsed 36.70s, 7.34 s/epoch, 0.00 s/batch, ets 36.70s\n",
            "\n",
            "Test set: Average loss: 1.4486, Accuracy: 5054/10000 (51%)\n",
            "\n",
            "Train Epoch: 5 [1600/60000] Loss: 1.080169 Acc: 0.6250\n",
            "Elapsed 44.57s, 7.43 s/epoch, 0.00 s/batch, ets 29.71s\n",
            "\n",
            "Test set: Average loss: 1.0991, Accuracy: 5936/10000 (59%)\n",
            "\n",
            "Train Epoch: 6 [1600/60000] Loss: 1.172793 Acc: 0.4375\n",
            "Elapsed 51.60s, 7.37 s/epoch, 0.00 s/batch, ets 22.11s\n",
            "\n",
            "Test set: Average loss: 1.0397, Accuracy: 6167/10000 (62%)\n",
            "\n",
            "Train Epoch: 7 [1600/60000] Loss: 1.183277 Acc: 0.6250\n",
            "Elapsed 58.92s, 7.36 s/epoch, 0.00 s/batch, ets 14.73s\n",
            "\n",
            "Test set: Average loss: 0.9540, Accuracy: 6513/10000 (65%)\n",
            "\n",
            "Train Epoch: 8 [1600/60000] Loss: 0.635306 Acc: 0.7500\n",
            "Elapsed 67.32s, 7.48 s/epoch, 0.00 s/batch, ets 7.48s\n",
            "\n",
            "Test set: Average loss: 0.9327, Accuracy: 6682/10000 (67%)\n",
            "\n",
            "Train Epoch: 9 [1600/60000] Loss: 0.939622 Acc: 0.6875\n",
            "Elapsed 73.72s, 7.37 s/epoch, 0.00 s/batch, ets 0.00s\n",
            "\n",
            "Test set: Average loss: 0.8424, Accuracy: 6802/10000 (68%)\n",
            "\n",
            "Total time: 80.31, Best Loss: 0.842\n",
            "Train Epoch: 0 [1600/60000] Loss: 2.048042 Acc: 0.3750\n",
            "Elapsed 1.42s, 1.42 s/epoch, 0.00 s/batch, ets 12.77s\n",
            "\n",
            "Test set: Average loss: 2.0344, Accuracy: 3869/10000 (39%)\n",
            "\n",
            "Train Epoch: 1 [1600/60000] Loss: 1.405101 Acc: 0.8750\n",
            "Elapsed 8.08s, 4.04 s/epoch, 0.00 s/batch, ets 32.33s\n",
            "\n",
            "Test set: Average loss: 1.4868, Accuracy: 6349/10000 (63%)\n",
            "\n",
            "Train Epoch: 2 [1600/60000] Loss: 1.035003 Acc: 0.6875\n",
            "Elapsed 16.16s, 5.39 s/epoch, 0.00 s/batch, ets 37.70s\n",
            "\n",
            "Test set: Average loss: 0.9751, Accuracy: 6971/10000 (70%)\n",
            "\n",
            "Train Epoch: 3 [1600/60000] Loss: 0.719974 Acc: 0.6875\n",
            "Elapsed 23.18s, 5.79 s/epoch, 0.00 s/batch, ets 34.76s\n",
            "\n",
            "Test set: Average loss: 0.8140, Accuracy: 7249/10000 (72%)\n",
            "\n",
            "Train Epoch: 4 [1600/60000] Loss: 0.773276 Acc: 0.7500\n",
            "Elapsed 32.16s, 6.43 s/epoch, 0.00 s/batch, ets 32.16s\n",
            "\n",
            "Test set: Average loss: 0.7318, Accuracy: 7401/10000 (74%)\n",
            "\n",
            "Train Epoch: 5 [1600/60000] Loss: 0.650584 Acc: 0.7500\n",
            "Elapsed 40.24s, 6.71 s/epoch, 0.00 s/batch, ets 26.83s\n",
            "\n",
            "Test set: Average loss: 0.6660, Accuracy: 7568/10000 (76%)\n",
            "\n",
            "Train Epoch: 6 [1600/60000] Loss: 0.843360 Acc: 0.6250\n",
            "Elapsed 46.93s, 6.70 s/epoch, 0.00 s/batch, ets 20.11s\n",
            "\n",
            "Test set: Average loss: 0.6430, Accuracy: 7596/10000 (76%)\n",
            "\n",
            "Train Epoch: 7 [1600/60000] Loss: 0.811804 Acc: 0.6250\n",
            "Elapsed 54.99s, 6.87 s/epoch, 0.00 s/batch, ets 13.75s\n",
            "\n",
            "Test set: Average loss: 0.6184, Accuracy: 7642/10000 (76%)\n",
            "\n",
            "Train Epoch: 8 [1600/60000] Loss: 0.209462 Acc: 1.0000\n",
            "Elapsed 61.58s, 6.84 s/epoch, 0.00 s/batch, ets 6.84s\n",
            "\n",
            "Test set: Average loss: 0.5983, Accuracy: 7705/10000 (77%)\n",
            "\n",
            "Train Epoch: 9 [1600/60000] Loss: 0.488373 Acc: 0.7500\n",
            "Elapsed 69.60s, 6.96 s/epoch, 0.00 s/batch, ets 0.00s\n",
            "\n",
            "Test set: Average loss: 0.5861, Accuracy: 7776/10000 (78%)\n",
            "\n",
            "Total time: 74.94, Best Loss: 0.586\n"
          ]
        }
      ]
    },
    {
      "cell_type": "code",
      "source": [
        "plt.rcParams[\"figure.figsize\"] = (10, 6)\n",
        "x = range(len(epoch_train_loss))\n",
        "\n",
        "\n",
        "plt.figure\n",
        "plt.plot(x, epoch_train_loss, 'r', label=\"train loss\")\n",
        "plt.plot(x, epoch_test_loss, 'b', label=\"validation loss\")\n",
        "\n",
        "plt.plot(x, epoch_train_loss_bn, 'r--', label=\"train loss with BN\")\n",
        "plt.plot(x, epoch_test_loss_bn, 'b--',label=\"validation loss with BN\")\n",
        "\n",
        "plt.xlabel('epoch no.')\n",
        "plt.ylabel('loss')\n",
        "plt.legend(loc='upper right')\n",
        "plt.title('Training and Validation Loss')\n",
        "plt.show()"
      ],
      "metadata": {
        "colab": {
          "base_uri": "https://localhost:8080/",
          "height": 429
        },
        "id": "VfVrMclmPg84",
        "outputId": "530d07f9-2401-4969-aee5-236452d0a1fb"
      },
      "execution_count": 14,
      "outputs": [
        {
          "output_type": "display_data",
          "data": {
            "text/plain": [
              "<Figure size 1000x600 with 1 Axes>"
            ],
            "image/png": "[encoded data removed]"
          },
          "metadata": {}
        }
      ]
    },
    {
      "cell_type": "code",
      "source": [
        "import torchvision\n",
        "train_transform = transforms.Compose([transforms.ToTensor()])\n",
        "train_set = torchvision.datasets.FashionMNIST(root=\"./data\", train=True, download=True, transform=train_transform)\n",
        "\n",
        "print(train_set.data.float().mean()/255)\n",
        "print(train_set.data.float().std()/255)"
      ],
      "metadata": {
        "colab": {
          "base_uri": "https://localhost:8080/"
        },
        "id": "d9Cr4Raej0mF",
        "outputId": "9ae9f37d-961f-417c-d295-da85c1b1d840"
      },
      "execution_count": 15,
      "outputs": [
        {
          "output_type": "stream",
          "name": "stdout",
          "text": [
            "tensor(0.2860)\n",
            "tensor(0.3530)\n"
          ]
        }
      ]
    }
  ]
}