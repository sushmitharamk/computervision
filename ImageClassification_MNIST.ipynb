{
  "nbformat": 4,
  "nbformat_minor": 0,
  "metadata": {
    "colab": {
      "provenance": [],
      "authorship_tag": "ABX9TyMwvs3DaUkMrzE+HUdMTYvW",
      "include_colab_link": true
    },
    "kernelspec": {
      "name": "python3",
      "display_name": "Python 3"
    },
    "language_info": {
      "name": "python"
    }
  },
  "cells": [
    {
      "cell_type": "markdown",
      "metadata": {
        "id": "view-in-github",
        "colab_type": "text"
      },
      "source": [
        "<a href=\"https://colab.research.google.com/github/sushmitharamk/computervision/blob/main/ImageClassification_MNIST.ipynb\" target=\"_parent\"><img src=\"https://colab.research.google.com/assets/colab-badge.svg\" alt=\"Open In Colab\"/></a>"
      ]
    },
    {
      "cell_type": "markdown",
      "source": [
        "# **Image classification using MNIST dataset**"
      ],
      "metadata": {
        "id": "A0xOecRXZG68"
      }
    },
    {
      "cell_type": "code",
      "execution_count": null,
      "metadata": {
        "id": "fRzizSTWqjZG",
        "colab": {
          "base_uri": "https://localhost:8080/"
        },
        "outputId": "2c86b432-4a32-4041-a690-2e80ffc2fcbf"
      },
      "outputs": [
        {
          "output_type": "execute_result",
          "data": {
            "text/plain": [
              "<torch._C.Generator at 0x7c3ec8784cb0>"
            ]
          },
          "metadata": {},
          "execution_count": 1
        }
      ],
      "source": [
        "#import necessary libraries\n",
        "import torch\n",
        "import torch.nn as nn\n",
        "import torch.optim as optim\n",
        "\n",
        "from torchvision import datasets\n",
        "from torchvision import transforms\n",
        "from torch.utils.data import DataLoader\n",
        "\n",
        "torch.manual_seed(0)"
      ]
    },
    {
      "cell_type": "code",
      "source": [
        "#load data\n",
        "train_dataset = datasets.MNIST('./data',\n",
        "                               train = True,\n",
        "                               download = True,\n",
        "                               transform = transforms.ToTensor())\n",
        "\n",
        "test_dataset = datasets.MNIST('./data',\n",
        "                              train = False,\n",
        "                              transform = transforms.ToTensor())\n"
      ],
      "metadata": {
        "colab": {
          "base_uri": "https://localhost:8080/"
        },
        "id": "0Mg2c_992mAY",
        "outputId": "e8520ed3-ad64-40b0-b80d-4279565bd5d1"
      },
      "execution_count": null,
      "outputs": [
        {
          "output_type": "stream",
          "name": "stdout",
          "text": [
            "Downloading http://yann.lecun.com/exdb/mnist/train-images-idx3-ubyte.gz\n",
            "Failed to download (trying next):\n",
            "HTTP Error 403: Forbidden\n",
            "\n",
            "Downloading https://ossci-datasets.s3.amazonaws.com/mnist/train-images-idx3-ubyte.gz\n",
            "Downloading https://ossci-datasets.s3.amazonaws.com/mnist/train-images-idx3-ubyte.gz to ./data/MNIST/raw/train-images-idx3-ubyte.gz\n"
          ]
        },
        {
          "output_type": "stream",
          "name": "stderr",
          "text": [
            "100%|██████████| 9912422/9912422 [00:00<00:00, 11573485.92it/s]\n"
          ]
        },
        {
          "output_type": "stream",
          "name": "stdout",
          "text": [
            "Extracting ./data/MNIST/raw/train-images-idx3-ubyte.gz to ./data/MNIST/raw\n",
            "\n",
            "Downloading http://yann.lecun.com/exdb/mnist/train-labels-idx1-ubyte.gz\n",
            "Failed to download (trying next):\n",
            "HTTP Error 403: Forbidden\n",
            "\n",
            "Downloading https://ossci-datasets.s3.amazonaws.com/mnist/train-labels-idx1-ubyte.gz\n",
            "Downloading https://ossci-datasets.s3.amazonaws.com/mnist/train-labels-idx1-ubyte.gz to ./data/MNIST/raw/train-labels-idx1-ubyte.gz\n"
          ]
        },
        {
          "output_type": "stream",
          "name": "stderr",
          "text": [
            "100%|██████████| 28881/28881 [00:00<00:00, 347577.70it/s]\n"
          ]
        },
        {
          "output_type": "stream",
          "name": "stdout",
          "text": [
            "Extracting ./data/MNIST/raw/train-labels-idx1-ubyte.gz to ./data/MNIST/raw\n",
            "\n",
            "Downloading http://yann.lecun.com/exdb/mnist/t10k-images-idx3-ubyte.gz\n",
            "Failed to download (trying next):\n",
            "HTTP Error 403: Forbidden\n",
            "\n",
            "Downloading https://ossci-datasets.s3.amazonaws.com/mnist/t10k-images-idx3-ubyte.gz\n",
            "Downloading https://ossci-datasets.s3.amazonaws.com/mnist/t10k-images-idx3-ubyte.gz to ./data/MNIST/raw/t10k-images-idx3-ubyte.gz\n"
          ]
        },
        {
          "output_type": "stream",
          "name": "stderr",
          "text": [
            "100%|██████████| 1648877/1648877 [00:00<00:00, 3032449.12it/s]\n"
          ]
        },
        {
          "output_type": "stream",
          "name": "stdout",
          "text": [
            "Extracting ./data/MNIST/raw/t10k-images-idx3-ubyte.gz to ./data/MNIST/raw\n",
            "\n",
            "Downloading http://yann.lecun.com/exdb/mnist/t10k-labels-idx1-ubyte.gz\n",
            "Failed to download (trying next):\n",
            "HTTP Error 403: Forbidden\n",
            "\n",
            "Downloading https://ossci-datasets.s3.amazonaws.com/mnist/t10k-labels-idx1-ubyte.gz\n",
            "Downloading https://ossci-datasets.s3.amazonaws.com/mnist/t10k-labels-idx1-ubyte.gz to ./data/MNIST/raw/t10k-labels-idx1-ubyte.gz\n"
          ]
        },
        {
          "output_type": "stream",
          "name": "stderr",
          "text": [
            "100%|██████████| 4542/4542 [00:00<00:00, 6394940.84it/s]\n"
          ]
        },
        {
          "output_type": "stream",
          "name": "stdout",
          "text": [
            "Extracting ./data/MNIST/raw/t10k-labels-idx1-ubyte.gz to ./data/MNIST/raw\n",
            "\n"
          ]
        }
      ]
    },
    {
      "cell_type": "code",
      "source": [
        "\n",
        "batch_size = 32\n",
        "\n",
        "train_loader = DataLoader(dataset = train_dataset,\n",
        "                          batch_size =batch_size,\n",
        "                          shuffle = True)\n",
        "\n",
        "test_loader = DataLoader(dataset = test_dataset,\n",
        "                         batch_size = batch_size,\n",
        "                         shuffle = False)"
      ],
      "metadata": {
        "id": "v_HiDEWeUJfb"
      },
      "execution_count": null,
      "outputs": []
    },
    {
      "cell_type": "code",
      "source": [
        "train_dataset"
      ],
      "metadata": {
        "colab": {
          "base_uri": "https://localhost:8080/"
        },
        "id": "TID5u5v_VKX0",
        "outputId": "06c629e1-59df-4b4d-aa35-e8ca617f39e5"
      },
      "execution_count": null,
      "outputs": [
        {
          "output_type": "execute_result",
          "data": {
            "text/plain": [
              "Dataset MNIST\n",
              "    Number of datapoints: 60000\n",
              "    Root location: ./data\n",
              "    Split: Train\n",
              "    StandardTransform\n",
              "Transform: ToTensor()"
            ]
          },
          "metadata": {},
          "execution_count": 4
        }
      ]
    },
    {
      "cell_type": "code",
      "source": [
        "class MLP(torch.nn.Module):\n",
        "  def __init__(self):\n",
        "    super().__init__()\n",
        "\n",
        "    self.model = nn.Sequential(\n",
        "        nn.Linear(28*28,512),\n",
        "        nn.ReLU(),\n",
        "        nn.Linear(512,512),\n",
        "        nn.ReLU(),\n",
        "        nn.Linear(512,10)\n",
        "    )\n",
        "\n",
        "  def forward(self,x):\n",
        "    return self.model(x)"
      ],
      "metadata": {
        "id": "C0lamJWDasjD"
      },
      "execution_count": null,
      "outputs": []
    },
    {
      "cell_type": "code",
      "source": [
        "print(train_loader)\n",
        "train_loader.dataset.data.shape"
      ],
      "metadata": {
        "id": "kYd_IKuyKm54",
        "colab": {
          "base_uri": "https://localhost:8080/"
        },
        "outputId": "dbb9cc67-f4ad-4501-d031-79f3f751559c"
      },
      "execution_count": null,
      "outputs": [
        {
          "output_type": "stream",
          "name": "stdout",
          "text": [
            "<torch.utils.data.dataloader.DataLoader object at 0x7c3edca0d6f0>\n"
          ]
        },
        {
          "output_type": "execute_result",
          "data": {
            "text/plain": [
              "torch.Size([60000, 28, 28])"
            ]
          },
          "metadata": {},
          "execution_count": 6
        }
      ]
    },
    {
      "cell_type": "code",
      "source": [
        "enumerate(train_loader)"
      ],
      "metadata": {
        "colab": {
          "base_uri": "https://localhost:8080/"
        },
        "id": "aU2VZQOsvsGT",
        "outputId": "71a9afe0-c959-43ee-e596-330f5274bb13"
      },
      "execution_count": null,
      "outputs": [
        {
          "output_type": "execute_result",
          "data": {
            "text/plain": [
              "<enumerate at 0x7c3e11b4d880>"
            ]
          },
          "metadata": {},
          "execution_count": 7
        }
      ]
    },
    {
      "cell_type": "code",
      "source": [
        "def train():\n",
        "  model.train()\n",
        "  running_loss =0\n",
        "  running_correct =0\n",
        "\n",
        "  for (x_train,y_train) in train_loader:\n",
        "    x_train = x_train.view(x_train.shape[0],-1)\n",
        "    y=model(x_train)\n",
        "\n",
        "    loss = loss_function(y,y_train)\n",
        "    running_loss +=loss.item()\n",
        "\n",
        "    y_pred = y.argmax(dim=1)\n",
        "    correct = torch.sum(y_pred == y_train)\n",
        "    running_correct += correct\n",
        "\n",
        "    optimizer.zero_grad()\n",
        "\n",
        "    loss.backward()\n",
        "\n",
        "    optimizer.step()\n",
        "\n",
        "  return running_loss/len(train_loader),running_correct.item()/len(train_loader.dataset)\n",
        "\n"
      ],
      "metadata": {
        "id": "KOLtY5khwVGi"
      },
      "execution_count": null,
      "outputs": []
    },
    {
      "cell_type": "code",
      "source": [
        "def val():\n",
        "  model.eval()\n",
        "  running_loss=0\n",
        "  running_correct =0\n",
        "  with torch.no_grad():\n",
        "    for (x_val, y_val) in test_loader:\n",
        "      x_val = x_val.view(x_val.shape[0],-1)\n",
        "      y = model(x_val)\n",
        "      prob = nn.functional.softmax(y,dim=1)\n",
        "      y_pred = prob.argmax(dim = 1)\n",
        "      correct =  torch.sum(y_pred == y_val)\n",
        "      running_correct += correct\n",
        "      loss = loss_function(y,y_val)\n",
        "    return running_loss/len(test_loader),running_correct.item()/len(test_loader.dataset)\n"
      ],
      "metadata": {
        "id": "aqoDeg3EzXPu"
      },
      "execution_count": null,
      "outputs": []
    },
    {
      "cell_type": "code",
      "source": [
        "num_epochs = 20\n",
        "\n",
        "model = MLP()\n",
        "\n",
        "loss_function = nn.CrossEntropyLoss()\n",
        "\n",
        "optimizer = optim.SGD(model.parameters(),lr = 1e-2)"
      ],
      "metadata": {
        "id": "xeZW4izTwUuk"
      },
      "execution_count": null,
      "outputs": []
    },
    {
      "cell_type": "code",
      "source": [
        "train_loss_history = []\n",
        "val_loss_history = []\n",
        "train_acc_history = []\n",
        "val_acc_history = []\n",
        "\n",
        "print(\"Starting Training...\")\n",
        "for ep in range(num_epochs):\n",
        "  train_loss, train_acc=train()\n",
        "  val_loss, val_acc =val()\n",
        "  print(\"Epoch: {}, Train Loss = {:.3f}, Train Acc = {:.3f} , Val Loss = {:.3f}, Val Acc = {:.3f}\".\n",
        "          format(ep, train_loss, train_acc, val_loss, val_acc))\n",
        "  train_loss_history.append(train_loss)\n",
        "  val_loss_history.append(val_loss)\n",
        "  train_acc_history.append(train_acc)\n",
        "  val_acc_history.append(val_acc)\n"
      ],
      "metadata": {
        "id": "yG3TlbeszS6q",
        "colab": {
          "base_uri": "https://localhost:8080/"
        },
        "outputId": "999d6755-8cba-4433-e375-01f103fa4f46"
      },
      "execution_count": null,
      "outputs": [
        {
          "output_type": "stream",
          "name": "stdout",
          "text": [
            "Starting Training...\n",
            "Epoch: 0, Train Loss = 0.352, Train Acc = 0.899 , Val Loss = 0.000, Val Acc = 0.913\n",
            "Epoch: 1, Train Loss = 0.292, Train Acc = 0.916 , Val Loss = 0.000, Val Acc = 0.927\n",
            "Epoch: 2, Train Loss = 0.253, Train Acc = 0.927 , Val Loss = 0.000, Val Acc = 0.936\n",
            "Epoch: 3, Train Loss = 0.222, Train Acc = 0.937 , Val Loss = 0.000, Val Acc = 0.939\n",
            "Epoch: 4, Train Loss = 0.197, Train Acc = 0.943 , Val Loss = 0.000, Val Acc = 0.946\n",
            "Epoch: 5, Train Loss = 0.175, Train Acc = 0.950 , Val Loss = 0.000, Val Acc = 0.952\n",
            "Epoch: 6, Train Loss = 0.157, Train Acc = 0.955 , Val Loss = 0.000, Val Acc = 0.954\n",
            "Epoch: 7, Train Loss = 0.142, Train Acc = 0.960 , Val Loss = 0.000, Val Acc = 0.959\n",
            "Epoch: 8, Train Loss = 0.130, Train Acc = 0.963 , Val Loss = 0.000, Val Acc = 0.963\n",
            "Epoch: 9, Train Loss = 0.118, Train Acc = 0.966 , Val Loss = 0.000, Val Acc = 0.964\n",
            "Epoch: 10, Train Loss = 0.109, Train Acc = 0.969 , Val Loss = 0.000, Val Acc = 0.966\n",
            "Epoch: 11, Train Loss = 0.100, Train Acc = 0.971 , Val Loss = 0.000, Val Acc = 0.967\n",
            "Epoch: 12, Train Loss = 0.093, Train Acc = 0.974 , Val Loss = 0.000, Val Acc = 0.969\n",
            "Epoch: 13, Train Loss = 0.086, Train Acc = 0.976 , Val Loss = 0.000, Val Acc = 0.971\n",
            "Epoch: 14, Train Loss = 0.080, Train Acc = 0.978 , Val Loss = 0.000, Val Acc = 0.972\n",
            "Epoch: 15, Train Loss = 0.074, Train Acc = 0.979 , Val Loss = 0.000, Val Acc = 0.973\n",
            "Epoch: 16, Train Loss = 0.070, Train Acc = 0.980 , Val Loss = 0.000, Val Acc = 0.974\n",
            "Epoch: 17, Train Loss = 0.065, Train Acc = 0.982 , Val Loss = 0.000, Val Acc = 0.974\n",
            "Epoch: 18, Train Loss = 0.061, Train Acc = 0.984 , Val Loss = 0.000, Val Acc = 0.976\n",
            "Epoch: 19, Train Loss = 0.057, Train Acc = 0.985 , Val Loss = 0.000, Val Acc = 0.975\n"
          ]
        }
      ]
    },
    {
      "cell_type": "code",
      "source": [
        "import matplotlib.pyplot as plt\n",
        "%matplotlib inline\n",
        "plt.figure(figsize=[20,8])\n",
        "plt.subplot(121)\n",
        "plt.plot(train_loss_history,'r')\n",
        "plt.plot(val_loss_history,'b')\n",
        "plt.title(\"Loss Curve\")\n",
        "\n",
        "plt.subplot(122)\n",
        "plt.plot(train_acc_history,'r')\n",
        "plt.plot(val_acc_history,'b')\n",
        "plt.title(\"Accuracy Curve\")"
      ],
      "metadata": {
        "colab": {
          "base_uri": "https://localhost:8080/",
          "height": 633
        },
        "id": "ZX-ze1tBWjIg",
        "outputId": "a98515f1-68c5-4bf7-9968-03cf0d7d8ca0"
      },
      "execution_count": null,
      "outputs": [
        {
          "output_type": "execute_result",
          "data": {
            "text/plain": [
              "Text(0.5, 1.0, 'Accuracy Curve')"
            ]
          },
          "metadata": {},
          "execution_count": 15
        },
        {
          "output_type": "display_data",
          "data": {
            "text/plain": [
              "<Figure size 2000x800 with 2 Axes>"
            ],
            "image/png": "[encoded data removed]"
          },
          "metadata": {}
        }
      ]
    },
    {
      "cell_type": "code",
      "source": [
        "images, labels = next(iter(test_loader))\n",
        "plt.imshow(images[0][0],'gray')"
      ],
      "metadata": {
        "colab": {
          "base_uri": "https://localhost:8080/",
          "height": 447
        },
        "id": "voFNK3OLXe60",
        "outputId": "2e6a64e2-05e2-4428-cb4f-8074173554b7"
      },
      "execution_count": null,
      "outputs": [
        {
          "output_type": "execute_result",
          "data": {
            "text/plain": [
              "<matplotlib.image.AxesImage at 0x7c3e0113dc60>"
            ]
          },
          "metadata": {},
          "execution_count": 17
        },
        {
          "output_type": "display_data",
          "data": {
            "text/plain": [
              "<Figure size 640x480 with 1 Axes>"
            ],
            "image/png": "[encoded data removed]"
          },
          "metadata": {}
        }
      ]
    },
    {
      "cell_type": "code",
      "source": [
        "images.resize_(images.shape[0],1,784)\n",
        "score=model(images[0,:])\n",
        "prob = nn.functional.softmax(score[0],dim=0)\n",
        "y_pred = prob.argmax()\n",
        "print(\"Predicted class {} with probability {}\".format(y_pred, prob[y_pred]))"
      ],
      "metadata": {
        "colab": {
          "base_uri": "https://localhost:8080/"
        },
        "id": "wKJqwPdqX0ot",
        "outputId": "cefebb46-d5cc-4372-f5ec-c0efa6c67134"
      },
      "execution_count": null,
      "outputs": [
        {
          "output_type": "stream",
          "name": "stdout",
          "text": [
            "Predicted class 7 with probability 0.9983810186386108\n"
          ]
        }
      ]
    }
  ]
}